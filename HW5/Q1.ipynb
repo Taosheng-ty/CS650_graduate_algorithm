{
 "cells": [
  {
   "cell_type": "code",
   "execution_count": 70,
   "metadata": {},
   "outputs": [],
   "source": [
    "import numpy as np\n",
    "def get_population(population_size,B_ratio):\n",
    "    ## population_size is the population size.\n",
    "    ##A:+1, B:-1 \n",
    "    ## This function will generate a population with group A as 1, group B as -1. \n",
    "    ## The ratio of  group B  is specified by B_ratio.\n",
    "    population=np.ones(int(population_size))\n",
    "    B_ind=np.arange(int(population_size*B_ratio))\n",
    "    population[B_ind]=-1\n",
    "    np.random.shuffle(population)\n",
    "    return population\n",
    "def get_A_majority_probability(population,sample_size,sample_nums):\n",
    "    ## population is the population.\n",
    "    ## sample_size, size of each sample.\n",
    "    ## sample_nums, how many sample we sample to get the probability.\n",
    "    population_size=len(population)\n",
    "    sample_ind_matrix=np.random.choice(population_size, (sample_nums,sample_size))\n",
    "    smaples=population[sample_ind_matrix]\n",
    "    sum_each_sample=smaples.sum(axis=1)\n",
    "    A_majority_probability=np.mean(sum_each_sample>0)\n",
    "    return A_majority_probability"
   ]
  },
  {
   "cell_type": "code",
   "execution_count": 72,
   "metadata": {},
   "outputs": [
    {
     "name": "stdout",
     "output_type": "stream",
     "text": [
      "Probability of A as majority is 0.51 when sample_size is 20\n",
      "Probability of A as majority is 0.63 when sample_size is 100\n",
      "Probability of A as majority is 0.75 when sample_size is 400\n"
     ]
    }
   ],
   "source": [
    "population_size=int(1e+6)\n",
    "B_ratio=0.48\n",
    "population=get_population(population_size,B_ratio)\n",
    "sample_sizes=[20,100,400]\n",
    "sample_nums=100\n",
    "for sample_size in sample_sizes:\n",
    "    A_majority_probability=get_A_majority_probability(population,sample_size,sample_nums)\n",
    "    print(f\"Probability of A as majority is {A_majority_probability} when sample_size is {sample_size}\")"
   ]
  },
  {
   "cell_type": "code",
   "execution_count": 74,
   "metadata": {},
   "outputs": [
    {
     "name": "stdout",
     "output_type": "stream",
     "text": [
      "Probability of A as majority is 0.791 when sample_size is 400\n",
      "Probability of A as majority is 0.82 when sample_size is 500\n",
      "Probability of A as majority is 0.835 when sample_size is 600\n",
      "Probability of A as majority is 0.845 when sample_size is 700\n",
      "Probability of A as majority is 0.845 when sample_size is 800\n",
      "Probability of A as majority is 0.852 when sample_size is 900\n",
      "Probability of A as majority is 0.872 when sample_size is 1000\n",
      "Probability of A as majority is 0.905 when sample_size is 1100\n",
      "Probability of A as majority is 0.894 when sample_size is 1200\n",
      "Probability of A as majority is 0.931 when sample_size is 1300\n",
      "Probability of A as majority is 0.936 when sample_size is 1400\n",
      "Probability of A as majority is 0.932 when sample_size is 1500\n",
      "Probability of A as majority is 0.943 when sample_size is 1600\n",
      "Probability of A as majority is 0.953 when sample_size is 1700\n",
      "Probability of A as majority is 0.946 when sample_size is 1800\n",
      "Probability of A as majority is 0.959 when sample_size is 1900\n"
     ]
    }
   ],
   "source": [
    "sample_sizes=np.arange(4,20)*100\n",
    "sample_nums=1000\n",
    "for sample_size in sample_sizes:\n",
    "    A_majority_probability=get_A_majority_probability(population,sample_size,sample_nums)\n",
    "    print(f\"Probability of A as majority is {A_majority_probability} when sample_size is {sample_size}\")"
   ]
  },
  {
   "cell_type": "code",
   "execution_count": 78,
   "metadata": {},
   "outputs": [
    {
     "name": "stdout",
     "output_type": "stream",
     "text": [
      "Probability of A as majority is 0.526 when sample_size is 10\n",
      "Probability of A as majority is 0.571 when sample_size is 20\n",
      "Probability of A as majority is 0.666 when sample_size is 30\n",
      "Probability of A as majority is 0.669 when sample_size is 40\n",
      "Probability of A as majority is 0.725 when sample_size is 50\n",
      "Probability of A as majority is 0.743 when sample_size is 60\n",
      "Probability of A as majority is 0.77 when sample_size is 70\n",
      "Probability of A as majority is 0.778 when sample_size is 80\n",
      "Probability of A as majority is 0.802 when sample_size is 90\n",
      "Probability of A as majority is 0.815 when sample_size is 100\n",
      "Probability of A as majority is 0.836 when sample_size is 110\n",
      "Probability of A as majority is 0.833 when sample_size is 120\n",
      "Probability of A as majority is 0.861 when sample_size is 130\n",
      "Probability of A as majority is 0.846 when sample_size is 140\n",
      "Probability of A as majority is 0.885 when sample_size is 150\n",
      "Probability of A as majority is 0.884 when sample_size is 160\n",
      "Probability of A as majority is 0.89 when sample_size is 170\n",
      "Probability of A as majority is 0.891 when sample_size is 180\n",
      "Probability of A as majority is 0.9 when sample_size is 190\n",
      "Probability of A as majority is 0.914 when sample_size is 200\n",
      "Probability of A as majority is 0.93 when sample_size is 210\n",
      "Probability of A as majority is 0.927 when sample_size is 220\n",
      "Probability of A as majority is 0.923 when sample_size is 230\n",
      "Probability of A as majority is 0.921 when sample_size is 240\n",
      "Probability of A as majority is 0.948 when sample_size is 250\n",
      "Probability of A as majority is 0.942 when sample_size is 260\n",
      "Probability of A as majority is 0.936 when sample_size is 270\n",
      "Probability of A as majority is 0.941 when sample_size is 280\n",
      "Probability of A as majority is 0.947 when sample_size is 290\n",
      "Probability of A as majority is 0.958 when sample_size is 300\n",
      "Probability of A as majority is 0.956 when sample_size is 310\n",
      "Probability of A as majority is 0.959 when sample_size is 320\n",
      "Probability of A as majority is 0.973 when sample_size is 330\n",
      "Probability of A as majority is 0.961 when sample_size is 340\n",
      "Probability of A as majority is 0.97 when sample_size is 350\n",
      "Probability of A as majority is 0.967 when sample_size is 360\n",
      "Probability of A as majority is 0.967 when sample_size is 370\n",
      "Probability of A as majority is 0.973 when sample_size is 380\n",
      "Probability of A as majority is 0.974 when sample_size is 390\n"
     ]
    }
   ],
   "source": [
    "population_size=int(1e+6)\n",
    "B_ratio=0.45\n",
    "population=get_population(population_size,B_ratio)\n",
    "sample_sizes=np.arange(1,40)*10\n",
    "sample_nums=1000\n",
    "for sample_size in sample_sizes:\n",
    "    A_majority_probability=get_A_majority_probability(population,sample_size,sample_nums)\n",
    "    print(f\"Probability of A as majority is {A_majority_probability} when sample_size is {sample_size}\")"
   ]
  },
  {
   "cell_type": "code",
   "execution_count": 79,
   "metadata": {},
   "outputs": [
    {
     "name": "stdout",
     "output_type": "stream",
     "text": [
      "/mnt/d/school/homework/CS6150_algorithm/HW5\r\n"
     ]
    }
   ],
   "source": [
    "!pwd"
   ]
  },
  {
   "cell_type": "code",
   "execution_count": null,
   "metadata": {},
   "outputs": [],
   "source": []
  }
 ],
 "metadata": {
  "kernelspec": {
   "display_name": "Python 3",
   "language": "python",
   "name": "python3"
  },
  "language_info": {
   "codemirror_mode": {
    "name": "ipython",
    "version": 3
   },
   "file_extension": ".py",
   "mimetype": "text/x-python",
   "name": "python",
   "nbconvert_exporter": "python",
   "pygments_lexer": "ipython3",
   "version": "3.6.9"
  }
 },
 "nbformat": 4,
 "nbformat_minor": 2
}
