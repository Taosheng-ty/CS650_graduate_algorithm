{
 "cells": [
  {
   "cell_type": "code",
   "execution_count": 68,
   "metadata": {},
   "outputs": [],
   "source": [
    "import numpy as np\n",
    "def get_population(population_size,B_ratio):\n",
    "    ## population_size is the population size.\n",
    "    ##A:+1, B:-1 \n",
    "    ## This function will generate a population with group A as 1, group B as -1. \n",
    "    ## The ratio of  group B  is specified by B_ratio.\n",
    "    population=np.ones(int(population_size))\n",
    "    B_ind=np.arange(int(population_size*B_ratio))\n",
    "    population[B_ind]=-1\n",
    "    np.random.shuffle(population)\n",
    "    return population\n",
    "def get_A_majority_probability(population,sample_size,sample_nums):\n",
    "    ## population is the population.\n",
    "    ## sample_size, size of each sample.\n",
    "    ## sample_nums, how many sample we sample to get the probability.\n",
    "    population_size=len(population)\n",
    "    sample_ind_matrix=np.random.choice(population_size, (sample_nums,sample_size))\n",
    "    smaples=population[sample_ind_matrix]\n",
    "    # sum_each_sample=smaples.mean(axis=1)\n",
    "    # A_majority_ratio=np.mean(sum_each_sample>=0.5)\n",
    "    sum_each_sample=smaples.sum(axis=1)\n",
    "    A_majority_probability=np.mean(sum_each_sample>0)\n",
    "    return A_majority_probability"
   ]
  },
  {
   "cell_type": "code",
   "execution_count": 67,
   "metadata": {},
   "outputs": [
    {
     "name": "stdout",
     "output_type": "stream",
     "text": [
      "Probability of A as majority is 0.51 when sample_size is 20\n",
      "Probability of A as majority is 0.69 when sample_size is 100\n",
      "Probability of A as majority is 0.76 when sample_size is 400\n"
     ]
    }
   ],
   "source": [
    "population_size=int(1e+6)\n",
    "B_ratio=0.48\n",
    "population=get_population(population_size,B_ratio)\n",
    "sample_sizes=[20,100,400]\n",
    "sample_nums=100\n",
    "for sample_size in sample_sizes:\n",
    "    A_majority_ratio=get_A_majority_probability(population,sample_size,sample_nums)\n",
    "    print(f\"Probability of A as majority is {A_majority_ratio} when sample_size is {sample_size}\")"
   ]
  },
  {
   "cell_type": "code",
   "execution_count": null,
   "metadata": {},
   "outputs": [],
   "source": []
  }
 ],
 "metadata": {
  "kernelspec": {
   "display_name": "Python 3",
   "language": "python",
   "name": "python3"
  },
  "language_info": {
   "codemirror_mode": {
    "name": "ipython",
    "version": 3
   },
   "file_extension": ".py",
   "mimetype": "text/x-python",
   "name": "python",
   "nbconvert_exporter": "python",
   "pygments_lexer": "ipython3",
   "version": "3.6.9"
  }
 },
 "nbformat": 4,
 "nbformat_minor": 2
}
